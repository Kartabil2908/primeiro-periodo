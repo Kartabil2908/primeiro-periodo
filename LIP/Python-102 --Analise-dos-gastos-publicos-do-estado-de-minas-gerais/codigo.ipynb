{
 "cells": [
  {
   "cell_type": "code",
   "execution_count": 30,
   "metadata": {},
   "outputs": [
    {
     "name": "stdout",
     "output_type": "stream",
     "text": [
      "A soma dos valores na coluna 'Valor Pago' é: 0.00\n"
     ]
    }
   ],
   "source": [
    "import pandas as pd\n",
    "\n",
    "# Carregar o arquivo Excel em um DataFrame\n",
    "dados = pd.read_excel('./dados/xlsx/consulta_despesas_2020.xlsx')\n",
    "\n",
    "# Convertendo a coluna \"Valor Pago\" para tipo numérico (float)\n",
    "dados['Valor Pago'] = pd.to_numeric(dados['Valor Pago'], errors='coerce')\n",
    "\n",
    "# Calculando a soma dos valores na coluna \"Valor Pago\"\n",
    "soma_valor_pago = dados['Valor Pago'].sum()\n",
    "\n",
    "print(\"A soma dos valores na coluna 'Valor Pago' é: {:,.2f}\".format(soma_valor_pago))\n"
   ]
  }
 ],
 "metadata": {
  "kernelspec": {
   "display_name": "Python 3",
   "language": "python",
   "name": "python3"
  },
  "language_info": {
   "codemirror_mode": {
    "name": "ipython",
    "version": 3
   },
   "file_extension": ".py",
   "mimetype": "text/x-python",
   "name": "python",
   "nbconvert_exporter": "python",
   "pygments_lexer": "ipython3",
   "version": "3.12.0"
  }
 },
 "nbformat": 4,
 "nbformat_minor": 2
}
